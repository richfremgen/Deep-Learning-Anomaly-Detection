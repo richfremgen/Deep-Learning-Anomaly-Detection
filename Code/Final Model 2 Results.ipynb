{
 "cells": [
  {
   "cell_type": "code",
   "execution_count": 2,
   "metadata": {
    "id": "RZq9OaoiZyUH"
   },
   "outputs": [],
   "source": [
    "import torch.nn as nn\n",
    "import torch.nn.functional as F\n",
    "import torch.optim\n",
    "import torchvision\n",
    "import torchvision.transforms as transforms\n",
    "from torchvision.utils import save_image\n",
    "from torch.utils.data import DataLoader, random_split\n",
    "import torch.optim as optim\n",
    "import matplotlib.pyplot as plt\n",
    "import numpy as np\n",
    "import os\n",
    "device = 'cpu'"
   ]
  },
  {
   "cell_type": "code",
   "execution_count": 3,
   "metadata": {
    "colab": {
     "base_uri": "https://localhost:8080/",
     "height": 103,
     "referenced_widgets": [
      "20c69dc58267482a94294a13e3434595",
      "1d4c53a8d36748598adb5f031710a20f",
      "25b300e0743549e6b3b7374b3a4ddc01",
      "9ca5167da0654e4ebcd5b9e4de175e3f",
      "c4bb18c93aee433f9cd96c46823fff4c",
      "144ec64c0fbb444cbe182eb47ce63722",
      "82f5f8608ca54c86b4864c33ecae11cb",
      "291e125201d745c4bc23ad57445b5225",
      "085bc31cb6d143beb4e6e6831d902f93",
      "05c12205aa79463c9e1d3f2806043336",
      "4071b79739f3496caea799f28155cd42"
     ]
    },
    "id": "dmysx1uRZyUM",
    "outputId": "cefbc9d6-5db2-4472-d3d3-1025a22be544"
   },
   "outputs": [
    {
     "name": "stdout",
     "output_type": "stream",
     "text": [
      "Downloading https://www.cs.toronto.edu/~kriz/cifar-10-python.tar.gz to ./data/cifar-10-python.tar.gz\n"
     ]
    },
    {
     "data": {
      "application/vnd.jupyter.widget-view+json": {
       "model_id": "20c69dc58267482a94294a13e3434595",
       "version_major": 2,
       "version_minor": 0
      },
      "text/plain": [
       "  0%|          | 0/170498071 [00:00<?, ?it/s]"
      ]
     },
     "metadata": {},
     "output_type": "display_data"
    },
    {
     "name": "stdout",
     "output_type": "stream",
     "text": [
      "Extracting ./data/cifar-10-python.tar.gz to ./data\n",
      "Files already downloaded and verified\n"
     ]
    }
   ],
   "source": [
    "batch_size = 100\n",
    "\n",
    "transform = transforms.Compose([transforms.ToTensor()])\n",
    "\n",
    "trainset = torchvision.datasets.CIFAR10(root='./data', train=True, download=True, transform=transform)\n",
    "indices = [idx for idx, target in enumerate(trainset.targets) if target in [0]]\n",
    "trainsetclass0 = torch.utils.data.Subset(trainset, indices)\n",
    "\n",
    "testset = torchvision.datasets.CIFAR10(root='./data', train=False, download=True, transform=transform)\n",
    "testloader = torch.utils.data.DataLoader(testset, batch_size=len(testset),shuffle=True, num_workers=2)\n",
    "\n",
    "l_train = len(trainsetclass0)\n",
    "\n",
    "validationsetclass0, trainsetclass0 = random_split(trainsetclass0, [int(l_train*0.2), int(l_train*0.8)])\n",
    "\n",
    "trainloader = torch.utils.data.DataLoader(trainsetclass0, batch_size=batch_size,\n",
    "                                          shuffle=True, num_workers=2)\n",
    "validationloader = torch.utils.data.DataLoader(validationsetclass0, batch_size=batch_size,\n",
    "                                          shuffle=True, num_workers=2)\n",
    "\n",
    "classes = ('plane', 'car', 'bird', 'cat', 'deer', 'dog', 'frog', 'horse', 'ship', 'truck')"
   ]
  },
  {
   "cell_type": "code",
   "execution_count": 4,
   "metadata": {
    "colab": {
     "base_uri": "https://localhost:8080/",
     "height": 284
    },
    "id": "kEzUW8YaMCVL",
    "outputId": "2559673f-a206-4eee-bf3c-1532db4bbb29"
   },
   "outputs": [
    {
     "data": {
      "text/plain": [
       "<matplotlib.image.AxesImage at 0x7f2331ac0710>"
      ]
     },
     "execution_count": 4,
     "metadata": {},
     "output_type": "execute_result"
    },
    {
     "data": {
      "image/png": "[encoded data removed]",
      "text/plain": [
       "<Figure size 432x288 with 1 Axes>"
      ]
     },
     "metadata": {
      "needs_background": "light"
     },
     "output_type": "display_data"
    }
   ],
   "source": [
    "#sample training image\n",
    "plt.imshow(np.transpose(trainsetclass0[0][0], (1, 2, 0))) "
   ]
  },
  {
   "cell_type": "markdown",
   "metadata": {
    "id": "7GVhmx32ZyUO"
   },
   "source": [
    "## __Convolutional Autoencoder__"
   ]
  },
  {
   "cell_type": "code",
   "execution_count": 5,
   "metadata": {
    "id": "41jX_9BiZyUP"
   },
   "outputs": [],
   "source": [
    "class ConvAutoEncoder(nn.Module):\n",
    "    def __init__(self):\n",
    "        super(ConvAutoEncoder, self).__init__()\n",
    "        \n",
    "        self.Encoder = nn.Sequential(\n",
    "            nn.Conv2d(3, 12, 4, stride=2, padding=1),    \n",
    "            nn.ReLU(),\n",
    "            nn.Conv2d(12, 24, 4, stride=2, padding=1),  \n",
    "            nn.ReLU(),\n",
    "\t\t      \tnn.Conv2d(24, 48, 4, stride=2, padding=1),  \n",
    "            nn.ReLU(),\n",
    "            nn.Conv2d(48, 96, 4, stride=2, padding=1),  \n",
    "            nn.ReLU(),\n",
    "            )\n",
    "        self.Decoder = nn.Sequential(\n",
    "            nn.ConvTranspose2d(96, 48, 4, stride=2, padding=1),  \n",
    "            nn.ReLU(),\n",
    "\t\t\t      nn.ConvTranspose2d(48, 24, 4, stride=2, padding=1), \n",
    "            nn.ReLU(),\n",
    "\t\t\t      nn.ConvTranspose2d(24, 12, 4, stride=2, padding=1),  \n",
    "            nn.ReLU(),\n",
    "            nn.ConvTranspose2d(12, 3, 4, stride=2, padding=1),\n",
    "            nn.Sigmoid(),)\n",
    "\n",
    "    def forward(self, x):\n",
    "        x = self.Encoder(x)\n",
    "        x = self.Decoder(x)\n",
    "        return x"
   ]
  },
  {
   "cell_type": "code",
   "execution_count": null,
   "metadata": {
    "colab": {
     "base_uri": "https://localhost:8080/"
    },
    "id": "2WCQR5ry1uGQ",
    "outputId": "5538a955-b93b-4f17-9cbc-52c7c4f57edf"
   },
   "outputs": [
    {
     "name": "stderr",
     "output_type": "stream",
     "text": [
      "100%|██████████| 25/25 [01:59<00:00,  4.79s/it]\n"
     ]
    },
    {
     "name": "stdout",
     "output_type": "stream",
     "text": [
      "Learning Rate: 0.1\n",
      "Weight Decay: 0.01\n",
      "Number of Epochs: 25\n",
      "Avg. Training Loss: 3.1354088872671126\n",
      "Avg. Validation Loss: 0.6447609435021877\n",
      "\n",
      "\n"
     ]
    },
    {
     "name": "stderr",
     "output_type": "stream",
     "text": [
      "100%|██████████| 25/25 [02:09<00:00,  5.18s/it]\n"
     ]
    },
    {
     "name": "stdout",
     "output_type": "stream",
     "text": [
      "Learning Rate: 0.1\n",
      "Weight Decay: 0.001\n",
      "Number of Epochs: 25\n",
      "Avg. Training Loss: 4.308563438951969\n",
      "Avg. Validation Loss: 0.6676524080336094\n",
      "\n",
      "\n"
     ]
    },
    {
     "name": "stderr",
     "output_type": "stream",
     "text": [
      "100%|██████████| 25/25 [02:24<00:00,  5.76s/it]\n"
     ]
    },
    {
     "name": "stdout",
     "output_type": "stream",
     "text": [
      "Learning Rate: 0.1\n",
      "Weight Decay: 0.0001\n",
      "Number of Epochs: 25\n",
      "Avg. Training Loss: 8.542020353376865\n",
      "Avg. Validation Loss: 2.1116907581686974\n",
      "\n",
      "\n"
     ]
    },
    {
     "name": "stderr",
     "output_type": "stream",
     "text": [
      "100%|██████████| 25/25 [01:57<00:00,  4.72s/it]\n"
     ]
    },
    {
     "name": "stdout",
     "output_type": "stream",
     "text": [
      "Learning Rate: 0.01\n",
      "Weight Decay: 0.01\n",
      "Number of Epochs: 25\n",
      "Avg. Training Loss: 2.5557162277400494\n",
      "Avg. Validation Loss: 0.6442295542359352\n",
      "\n",
      "\n"
     ]
    },
    {
     "name": "stderr",
     "output_type": "stream",
     "text": [
      "100%|██████████| 25/25 [01:59<00:00,  4.78s/it]\n"
     ]
    },
    {
     "name": "stdout",
     "output_type": "stream",
     "text": [
      "Learning Rate: 0.01\n",
      "Weight Decay: 0.001\n",
      "Number of Epochs: 25\n",
      "Avg. Training Loss: 2.549959695637226\n",
      "Avg. Validation Loss: 0.6425172163546086\n",
      "\n",
      "\n"
     ]
    },
    {
     "name": "stderr",
     "output_type": "stream",
     "text": [
      "100%|██████████| 25/25 [01:59<00:00,  4.78s/it]\n"
     ]
    },
    {
     "name": "stdout",
     "output_type": "stream",
     "text": [
      "Learning Rate: 0.01\n",
      "Weight Decay: 0.0001\n",
      "Number of Epochs: 25\n",
      "Avg. Training Loss: 1.703316987901926\n",
      "Avg. Validation Loss: 0.32611277550458906\n",
      "\n",
      "\n"
     ]
    },
    {
     "name": "stderr",
     "output_type": "stream",
     "text": [
      "100%|██████████| 25/25 [02:00<00:00,  4.83s/it]\n"
     ]
    },
    {
     "name": "stdout",
     "output_type": "stream",
     "text": [
      "Learning Rate: 0.001\n",
      "Weight Decay: 0.01\n",
      "Number of Epochs: 25\n",
      "Avg. Training Loss: 2.5695716789364815\n",
      "Avg. Validation Loss: 0.6477271854877472\n",
      "\n",
      "\n"
     ]
    },
    {
     "name": "stderr",
     "output_type": "stream",
     "text": [
      "100%|██████████| 25/25 [01:58<00:00,  4.73s/it]\n"
     ]
    },
    {
     "name": "stdout",
     "output_type": "stream",
     "text": [
      "Learning Rate: 0.001\n",
      "Weight Decay: 0.001\n",
      "Number of Epochs: 25\n",
      "Avg. Training Loss: 2.5568622288107874\n",
      "Avg. Validation Loss: 0.6437994840741158\n",
      "\n",
      "\n"
     ]
    },
    {
     "name": "stderr",
     "output_type": "stream",
     "text": [
      "100%|██████████| 25/25 [01:58<00:00,  4.74s/it]"
     ]
    },
    {
     "name": "stdout",
     "output_type": "stream",
     "text": [
      "Learning Rate: 0.001\n",
      "Weight Decay: 0.0001\n",
      "Number of Epochs: 25\n",
      "Avg. Training Loss: 1.2850014992803336\n",
      "Avg. Validation Loss: 0.28949382826685904\n",
      "\n",
      "\n"
     ]
    },
    {
     "name": "stderr",
     "output_type": "stream",
     "text": [
      "\n"
     ]
    }
   ],
   "source": [
    "# Train Neural Network\n",
    "import tqdm\n",
    "torch.manual_seed(123)\n",
    "num_epochs = [25]\n",
    "lr_list = [0.1,0.01, 0.001]\n",
    "wd_list = [0.01, 0.001, 0.0001]\n",
    "criterion  = nn.MSELoss()\n",
    "\n",
    "for lr in lr_list:\n",
    "  for weight_decay in wd_list:\n",
    "    for epochs in num_epochs:\n",
    "\n",
    "      ConvAE_model = ConvAutoEncoder()\n",
    "      save_training_loss = []\n",
    "      save_validation_loss = []\n",
    "      \n",
    "      tqdm_epoch = tqdm.trange(epochs)\n",
    "      for epoch in tqdm_epoch:\n",
    "            optConvAE = optim.Adam(ConvAE_model.parameters(), lr= lr, weight_decay= weight_decay)\n",
    "            training_loss_ConvAE = 0 \n",
    "            \n",
    "            # Training Set\n",
    "            for batch_ind, (image,_) in enumerate(trainloader):\n",
    "                \n",
    "                #image = image.to(device)\n",
    "                \n",
    "                # ConvAE model\n",
    "                optConvAE.zero_grad()\n",
    "                out_ConvAE = ConvAE_model(image)\n",
    "                loss_ConvAE = criterion(image, out_ConvAE)\n",
    "                loss_ConvAE.backward()\n",
    "                optConvAE.step()\n",
    "                training_loss_ConvAE += loss_ConvAE.item()\n",
    "\n",
    "            # Save Training Loss    \n",
    "            save_training_loss.append(training_loss_ConvAE)\n",
    "            validation_loss_ConvAE = 0.0  \n",
    "\n",
    "            # Validation Set\n",
    "            for batch_ind, (image,_) in enumerate(validationloader):\n",
    "\n",
    "                # ConvAE model\n",
    "                out_ConvAE = ConvAE_model(image)\n",
    "                loss_ConvAE = criterion(image, out_ConvAE)\n",
    "                validation_loss_ConvAE += loss_ConvAE.item()\n",
    "     \n",
    "            save_validation_loss.append(validation_loss_ConvAE)\n",
    "      average_training_loss = np.mean(save_training_loss)\n",
    "      average_validation_loss = np.mean(save_validation_loss)\n",
    "      print(f\"Learning Rate: {lr}\")\n",
    "      print(f\"Weight Decay: {weight_decay}\")\n",
    "      print(f\"Number of Epochs: {epochs}\")\n",
    "      print(f\"Avg. Training Loss: {average_training_loss}\")   \n",
    "      print(f\"Avg. Validation Loss: {average_validation_loss}\") \n",
    "      PATH = './anomaly_model_'+str(lr)+'_'+str(weight_decay)+'_'+str(epochs)+'_'+'.pth'\n",
    "      torch.save(ConvAE_model, PATH)\n",
    "      print('\\n')            "
   ]
  },
  {
   "cell_type": "code",
   "execution_count": 11,
   "metadata": {
    "id": "FrAiUdqO3uy7"
   },
   "outputs": [],
   "source": [
    "# Neural Network with optimal parameters\n",
    "PATH_optimal_model = './anomaly_model_'+str(0.001)+'_'+str(0.0001)+'_'+str(1)+'_'+'.pth'\n",
    "optConvAE = torch.load(PATH)\n"
   ]
  },
  {
   "cell_type": "code",
   "execution_count": 12,
   "metadata": {
    "id": "YUJAYqBLw40r"
   },
   "outputs": [],
   "source": [
    "# Define a function to plot both training and validation loss\n",
    "def plot_loss(training_loss, validation_loss):\n",
    "    fig = plt.figure(figsize=(12,8)) \n",
    "    plt.plot(training_loss, color = \"red\", linewidth=3, label = 'Training Loss')\n",
    "    plt.plot(validation_loss, color = \"green\", linewidth=3, label = 'Validation Loss')\n",
    "    plt.xlabel(\"Epoch Number\", fontsize = 12)\n",
    "    plt.ylabel(\"Loss\", fontsize = 14) \n",
    "    plt.title(\"Neural Network Loss by Epoch\", fontsize = 16, fontweight = \"bold\")\n",
    "    #plt.xticks(np.arange(0, 22, 2))\n",
    "    plt.legend(fontsize = 12)\n",
    "    plt.grid()\n",
    "    plt.show()"
   ]
  },
  {
   "cell_type": "code",
   "execution_count": 13,
   "metadata": {
    "colab": {
     "base_uri": "https://localhost:8080/",
     "height": 518
    },
    "id": "05bcuwFRxcRj",
    "outputId": "9c9f5db7-90a4-4b16-bdd8-ef532a180fae"
   },
   "outputs": [
    {
     "data": {
      "image/png": "[encoded data removed]",
      "text/plain": [
       "<Figure size 864x576 with 1 Axes>"
      ]
     },
     "metadata": {
      "needs_background": "light"
     },
     "output_type": "display_data"
    }
   ],
   "source": [
    "plot_loss(save_training_loss, save_validation_loss)"
   ]
  },
  {
   "cell_type": "code",
   "execution_count": 14,
   "metadata": {
    "colab": {
     "base_uri": "https://localhost:8080/",
     "height": 313
    },
    "id": "uIS0KF-Z3uy8",
    "outputId": "11fcedfc-ebb7-4a63-82bf-cd4f2b0eef84"
   },
   "outputs": [
    {
     "data": {
      "image/png": "[encoded data removed]",
      "text/plain": [
       "<Figure size 432x288 with 1 Axes>"
      ]
     },
     "metadata": {
      "needs_background": "light"
     },
     "output_type": "display_data"
    },
    {
     "name": "stdout",
     "output_type": "stream",
     "text": [
      "The AUC is  0.3127082222222222\n"
     ]
    }
   ],
   "source": [
    "for batch_ind, (image,target) in enumerate(testloader):\n",
    "    ConvAE_model.eval()\n",
    "    with torch.no_grad():\n",
    "        reconstructed_image = ConvAE_model(image)\n",
    "test_mse = torch.mean((image.view(10000,-1)-reconstructed_image.view(10000,-1))**2,dim=1)\n",
    "from sklearn import metrics\n",
    "fpr, tpr, thresholds = metrics.roc_curve(target, test_mse, pos_label=0)\n",
    "plt.plot(tpr,fpr)\n",
    "plt.title(\"ROC plot for anomaly detection for class 0\")\n",
    "plt.xlabel(\"TPR\")\n",
    "plt.ylabel(\"FPR\")\n",
    "plt.show()\n",
    "print(\"The AUC is \",metrics.auc(fpr, tpr))\n"
   ]
  },
  {
   "cell_type": "code",
   "execution_count": 57,
   "metadata": {
    "colab": {
     "base_uri": "https://localhost:8080/",
     "height": 284
    },
    "id": "1ceMQqcGb4qd",
    "outputId": "3fdc941f-a4cc-4d97-ea36-0b52859fea9c"
   },
   "outputs": [
    {
     "data": {
      "text/plain": [
       "<matplotlib.image.AxesImage at 0x7f231adb3350>"
      ]
     },
     "execution_count": 57,
     "metadata": {},
     "output_type": "execute_result"
    },
    {
     "data": {
      "image/png": "[encoded data removed]",
      "text/plain": [
       "<Figure size 432x288 with 1 Axes>"
      ]
     },
     "metadata": {
      "needs_background": "light"
     },
     "output_type": "display_data"
    }
   ],
   "source": [
    "plt.imshow(np.transpose(image[0:2][1], (1, 2, 0))) "
   ]
  },
  {
   "cell_type": "code",
   "execution_count": 58,
   "metadata": {
    "colab": {
     "base_uri": "https://localhost:8080/",
     "height": 284
    },
    "id": "_ozSczKIb56Q",
    "outputId": "9a61321f-e0a7-4214-ad80-6462e1490482"
   },
   "outputs": [
    {
     "data": {
      "text/plain": [
       "<matplotlib.image.AxesImage at 0x7f231afbe050>"
      ]
     },
     "execution_count": 58,
     "metadata": {},
     "output_type": "execute_result"
    },
    {
     "data": {
      "image/png": "[encoded data removed]",
      "text/plain": [
       "<Figure size 432x288 with 1 Axes>"
      ]
     },
     "metadata": {
      "needs_background": "light"
     },
     "output_type": "display_data"
    }
   ],
   "source": [
    "plt.imshow(np.transpose(image[0:2][0], (1, 2, 0))) "
   ]
  },
  {
   "cell_type": "code",
   "execution_count": 38,
   "metadata": {
    "id": "9Tz9ZT4r3uy9"
   },
   "outputs": [],
   "source": [
    "diff_image = torch.abs(image[0:2]-reconstructed_image[0:2])"
   ]
  },
  {
   "cell_type": "code",
   "execution_count": 39,
   "metadata": {
    "colab": {
     "base_uri": "https://localhost:8080/"
    },
    "id": "QXVEPnag3uy9",
    "outputId": "01c43837-79ea-4d64-e7bf-877cc6e972d4"
   },
   "outputs": [
    {
     "data": {
      "text/plain": [
       "tensor([7, 0])"
      ]
     },
     "execution_count": 39,
     "metadata": {},
     "output_type": "execute_result"
    }
   ],
   "source": [
    "target[0:2]"
   ]
  },
  {
   "cell_type": "code",
   "execution_count": 40,
   "metadata": {
    "colab": {
     "base_uri": "https://localhost:8080/"
    },
    "id": "A9ORxwbv3uy9",
    "outputId": "c49e3491-42b0-4574-cae3-ea9295dea955"
   },
   "outputs": [
    {
     "data": {
      "text/plain": [
       "torch.Size([2, 3, 32, 32])"
      ]
     },
     "execution_count": 40,
     "metadata": {},
     "output_type": "execute_result"
    }
   ],
   "source": [
    "diff_image.size()"
   ]
  },
  {
   "cell_type": "code",
   "execution_count": 41,
   "metadata": {
    "colab": {
     "base_uri": "https://localhost:8080/",
     "height": 284
    },
    "id": "itR459zE3uy-",
    "outputId": "b5f6c4b2-ed08-487c-f404-f750aa5b0440"
   },
   "outputs": [
    {
     "data": {
      "text/plain": [
       "<matplotlib.image.AxesImage at 0x7f231b0c0e10>"
      ]
     },
     "execution_count": 41,
     "metadata": {},
     "output_type": "execute_result"
    },
    {
     "data": {
      "image/png": "[encoded data removed]",
      "text/plain": [
       "<Figure size 432x288 with 1 Axes>"
      ]
     },
     "metadata": {
      "needs_background": "light"
     },
     "output_type": "display_data"
    }
   ],
   "source": [
    "plt.imshow(np.transpose(diff_image[1], (1, 2, 0))) "
   ]
  },
  {
   "cell_type": "code",
   "execution_count": 43,
   "metadata": {
    "colab": {
     "base_uri": "https://localhost:8080/",
     "height": 284
    },
    "id": "XBTSLDXH3uy-",
    "outputId": "3e6bfd1c-a42f-4a9b-947c-2c4f57d507b9"
   },
   "outputs": [
    {
     "data": {
      "text/plain": [
       "<matplotlib.image.AxesImage at 0x7f231afa6510>"
      ]
     },
     "execution_count": 43,
     "metadata": {},
     "output_type": "execute_result"
    },
    {
     "data": {
      "image/png": "[encoded data removed]",
      "text/plain": [
       "<Figure size 432x288 with 1 Axes>"
      ]
     },
     "metadata": {
      "needs_background": "light"
     },
     "output_type": "display_data"
    }
   ],
   "source": [
    "plt.imshow(np.transpose(diff_image[0], (1, 2, 0))) \n"
   ]
  },
  {
   "cell_type": "code",
   "execution_count": 45,
   "metadata": {
    "id": "nZCiaREh3uy_"
   },
   "outputs": [],
   "source": [
    "diff_image = torch.mean(torch.abs(image[0:2]-reconstructed_image[0:2]),dim=1,keepdim=True)"
   ]
  },
  {
   "cell_type": "code",
   "execution_count": 52,
   "metadata": {
    "colab": {
     "base_uri": "https://localhost:8080/",
     "height": 284
    },
    "id": "CV2E9Igs3uy_",
    "outputId": "eecc582c-b32c-46b1-c626-a1d5c2bbaf4e"
   },
   "outputs": [
    {
     "data": {
      "text/plain": [
       "<matplotlib.image.AxesImage at 0x7f231ad147d0>"
      ]
     },
     "execution_count": 52,
     "metadata": {},
     "output_type": "execute_result"
    },
    {
     "data": {
      "image/png": "[encoded data removed]",
      "text/plain": [
       "<Figure size 432x288 with 1 Axes>"
      ]
     },
     "metadata": {
      "needs_background": "light"
     },
     "output_type": "display_data"
    }
   ],
   "source": [
    "plt.imshow(torch.reshape(diff_image[1], (32,32))) "
   ]
  },
  {
   "cell_type": "code",
   "execution_count": 53,
   "metadata": {
    "colab": {
     "base_uri": "https://localhost:8080/",
     "height": 284
    },
    "id": "xTJ8Vded3uzA",
    "outputId": "8af5aa83-4258-406a-f695-4d2fe89b0056"
   },
   "outputs": [
    {
     "data": {
      "text/plain": [
       "<matplotlib.image.AxesImage at 0x7f231abff090>"
      ]
     },
     "execution_count": 53,
     "metadata": {},
     "output_type": "execute_result"
    },
    {
     "data": {
      "image/png": "[encoded data removed]",
      "text/plain": [
       "<Figure size 432x288 with 1 Axes>"
      ]
     },
     "metadata": {
      "needs_background": "light"
     },
     "output_type": "display_data"
    }
   ],
   "source": [
    "plt.imshow(torch.reshape(diff_image[0], (32,32))) "
   ]
  }
 ],
 "metadata": {
  "colab": {
   "provenance": []
  },
  "kernelspec": {
   "display_name": "Python 3 (ipykernel)",
   "language": "python",
   "name": "python3"
  },
  "language_info": {
   "codemirror_mode": {
    "name": "ipython",
    "version": 3
   },
   "file_extension": ".py",
   "mimetype": "text/x-python",
   "name": "python",
   "nbconvert_exporter": "python",
   "pygments_lexer": "ipython3",
   "version": "3.9.12"
  },
  "vscode": {
   "interpreter": {
    "hash": "a7b567b42122ab108d0f2e1af5ccae0d6523b726f4d312c6900d3cf5eb561115"
   }
  },
  "widgets": {
   "application/vnd.jupyter.widget-state+json": {
    "05c12205aa79463c9e1d3f2806043336": {
     "model_module": "@jupyter-widgets/base",
     "model_module_version": "1.2.0",
     "model_name": "LayoutModel",
     "state": {
      "_model_module": "@jupyter-widgets/base",
      "_model_module_version": "1.2.0",
      "_model_name": "LayoutModel",
      "_view_count": null,
      "_view_module": "@jupyter-widgets/base",
      "_view_module_version": "1.2.0",
      "_view_name": "LayoutView",
      "align_content": null,
      "align_items": null,
      "align_self": null,
      "border": null,
      "bottom": null,
      "display": null,
      "flex": null,
      "flex_flow": null,
      "grid_area": null,
      "grid_auto_columns": null,
      "grid_auto_flow": null,
      "grid_auto_rows": null,
      "grid_column": null,
      "grid_gap": null,
      "grid_row": null,
      "grid_template_areas": null,
      "grid_template_columns": null,
      "grid_template_rows": null,
      "height": null,
      "justify_content": null,
      "justify_items": null,
      "left": null,
      "margin": null,
      "max_height": null,
      "max_width": null,
      "min_height": null,
      "min_width": null,
      "object_fit": null,
      "object_position": null,
      "order": null,
      "overflow": null,
      "overflow_x": null,
      "overflow_y": null,
      "padding": null,
      "right": null,
      "top": null,
      "visibility": null,
      "width": null
     }
    },
    "085bc31cb6d143beb4e6e6831d902f93": {
     "model_module": "@jupyter-widgets/controls",
     "model_module_version": "1.5.0",
     "model_name": "ProgressStyleModel",
     "state": {
      "_model_module": "@jupyter-widgets/controls",
      "_model_module_version": "1.5.0",
      "_model_name": "ProgressStyleModel",
      "_view_count": null,
      "_view_module": "@jupyter-widgets/base",
      "_view_module_version": "1.2.0",
      "_view_name": "StyleView",
      "bar_color": null,
      "description_width": ""
     }
    },
    "144ec64c0fbb444cbe182eb47ce63722": {
     "model_module": "@jupyter-widgets/base",
     "model_module_version": "1.2.0",
     "model_name": "LayoutModel",
     "state": {
      "_model_module": "@jupyter-widgets/base",
      "_model_module_version": "1.2.0",
      "_model_name": "LayoutModel",
      "_view_count": null,
      "_view_module": "@jupyter-widgets/base",
      "_view_module_version": "1.2.0",
      "_view_name": "LayoutView",
      "align_content": null,
      "align_items": null,
      "align_self": null,
      "border": null,
      "bottom": null,
      "display": null,
      "flex": null,
      "flex_flow": null,
      "grid_area": null,
      "grid_auto_columns": null,
      "grid_auto_flow": null,
      "grid_auto_rows": null,
      "grid_column": null,
      "grid_gap": null,
      "grid_row": null,
      "grid_template_areas": null,
      "grid_template_columns": null,
      "grid_template_rows": null,
      "height": null,
      "justify_content": null,
      "justify_items": null,
      "left": null,
      "margin": null,
      "max_height": null,
      "max_width": null,
      "min_height": null,
      "min_width": null,
      "object_fit": null,
      "object_position": null,
      "order": null,
      "overflow": null,
      "overflow_x": null,
      "overflow_y": null,
      "padding": null,
      "right": null,
      "top": null,
      "visibility": null,
      "width": null
     }
    },
    "1d4c53a8d36748598adb5f031710a20f": {
     "model_module": "@jupyter-widgets/controls",
     "model_module_version": "1.5.0",
     "model_name": "HTMLModel",
     "state": {
      "_dom_classes": [],
      "_model_module": "@jupyter-widgets/controls",
      "_model_module_version": "1.5.0",
      "_model_name": "HTMLModel",
      "_view_count": null,
      "_view_module": "@jupyter-widgets/controls",
      "_view_module_version": "1.5.0",
      "_view_name": "HTMLView",
      "description": "",
      "description_tooltip": null,
      "layout": "IPY_MODEL_144ec64c0fbb444cbe182eb47ce63722",
      "placeholder": "​",
      "style": "IPY_MODEL_82f5f8608ca54c86b4864c33ecae11cb",
      "value": "100%"
     }
    },
    "20c69dc58267482a94294a13e3434595": {
     "model_module": "@jupyter-widgets/controls",
     "model_module_version": "1.5.0",
     "model_name": "HBoxModel",
     "state": {
      "_dom_classes": [],
      "_model_module": "@jupyter-widgets/controls",
      "_model_module_version": "1.5.0",
      "_model_name": "HBoxModel",
      "_view_count": null,
      "_view_module": "@jupyter-widgets/controls",
      "_view_module_version": "1.5.0",
      "_view_name": "HBoxView",
      "box_style": "",
      "children": [
       "IPY_MODEL_1d4c53a8d36748598adb5f031710a20f",
       "IPY_MODEL_25b300e0743549e6b3b7374b3a4ddc01",
       "IPY_MODEL_9ca5167da0654e4ebcd5b9e4de175e3f"
      ],
      "layout": "IPY_MODEL_c4bb18c93aee433f9cd96c46823fff4c"
     }
    },
    "25b300e0743549e6b3b7374b3a4ddc01": {
     "model_module": "@jupyter-widgets/controls",
     "model_module_version": "1.5.0",
     "model_name": "FloatProgressModel",
     "state": {
      "_dom_classes": [],
      "_model_module": "@jupyter-widgets/controls",
      "_model_module_version": "1.5.0",
      "_model_name": "FloatProgressModel",
      "_view_count": null,
      "_view_module": "@jupyter-widgets/controls",
      "_view_module_version": "1.5.0",
      "_view_name": "ProgressView",
      "bar_style": "success",
      "description": "",
      "description_tooltip": null,
      "layout": "IPY_MODEL_291e125201d745c4bc23ad57445b5225",
      "max": 170498071,
      "min": 0,
      "orientation": "horizontal",
      "style": "IPY_MODEL_085bc31cb6d143beb4e6e6831d902f93",
      "value": 170498071
     }
    },
    "291e125201d745c4bc23ad57445b5225": {
     "model_module": "@jupyter-widgets/base",
     "model_module_version": "1.2.0",
     "model_name": "LayoutModel",
     "state": {
      "_model_module": "@jupyter-widgets/base",
      "_model_module_version": "1.2.0",
      "_model_name": "LayoutModel",
      "_view_count": null,
      "_view_module": "@jupyter-widgets/base",
      "_view_module_version": "1.2.0",
      "_view_name": "LayoutView",
      "align_content": null,
      "align_items": null,
      "align_self": null,
      "border": null,
      "bottom": null,
      "display": null,
      "flex": null,
      "flex_flow": null,
      "grid_area": null,
      "grid_auto_columns": null,
      "grid_auto_flow": null,
      "grid_auto_rows": null,
      "grid_column": null,
      "grid_gap": null,
      "grid_row": null,
      "grid_template_areas": null,
      "grid_template_columns": null,
      "grid_template_rows": null,
      "height": null,
      "justify_content": null,
      "justify_items": null,
      "left": null,
      "margin": null,
      "max_height": null,
      "max_width": null,
      "min_height": null,
      "min_width": null,
      "object_fit": null,
      "object_position": null,
      "order": null,
      "overflow": null,
      "overflow_x": null,
      "overflow_y": null,
      "padding": null,
      "right": null,
      "top": null,
      "visibility": null,
      "width": null
     }
    },
    "4071b79739f3496caea799f28155cd42": {
     "model_module": "@jupyter-widgets/controls",
     "model_module_version": "1.5.0",
     "model_name": "DescriptionStyleModel",
     "state": {
      "_model_module": "@jupyter-widgets/controls",
      "_model_module_version": "1.5.0",
      "_model_name": "DescriptionStyleModel",
      "_view_count": null,
      "_view_module": "@jupyter-widgets/base",
      "_view_module_version": "1.2.0",
      "_view_name": "StyleView",
      "description_width": ""
     }
    },
    "82f5f8608ca54c86b4864c33ecae11cb": {
     "model_module": "@jupyter-widgets/controls",
     "model_module_version": "1.5.0",
     "model_name": "DescriptionStyleModel",
     "state": {
      "_model_module": "@jupyter-widgets/controls",
      "_model_module_version": "1.5.0",
      "_model_name": "DescriptionStyleModel",
      "_view_count": null,
      "_view_module": "@jupyter-widgets/base",
      "_view_module_version": "1.2.0",
      "_view_name": "StyleView",
      "description_width": ""
     }
    },
    "9ca5167da0654e4ebcd5b9e4de175e3f": {
     "model_module": "@jupyter-widgets/controls",
     "model_module_version": "1.5.0",
     "model_name": "HTMLModel",
     "state": {
      "_dom_classes": [],
      "_model_module": "@jupyter-widgets/controls",
      "_model_module_version": "1.5.0",
      "_model_name": "HTMLModel",
      "_view_count": null,
      "_view_module": "@jupyter-widgets/controls",
      "_view_module_version": "1.5.0",
      "_view_name": "HTMLView",
      "description": "",
      "description_tooltip": null,
      "layout": "IPY_MODEL_05c12205aa79463c9e1d3f2806043336",
      "placeholder": "​",
      "style": "IPY_MODEL_4071b79739f3496caea799f28155cd42",
      "value": " 170498071/170498071 [00:06&lt;00:00, 31150442.35it/s]"
     }
    },
    "c4bb18c93aee433f9cd96c46823fff4c": {
     "model_module": "@jupyter-widgets/base",
     "model_module_version": "1.2.0",
     "model_name": "LayoutModel",
     "state": {
      "_model_module": "@jupyter-widgets/base",
      "_model_module_version": "1.2.0",
      "_model_name": "LayoutModel",
      "_view_count": null,
      "_view_module": "@jupyter-widgets/base",
      "_view_module_version": "1.2.0",
      "_view_name": "LayoutView",
      "align_content": null,
      "align_items": null,
      "align_self": null,
      "border": null,
      "bottom": null,
      "display": null,
      "flex": null,
      "flex_flow": null,
      "grid_area": null,
      "grid_auto_columns": null,
      "grid_auto_flow": null,
      "grid_auto_rows": null,
      "grid_column": null,
      "grid_gap": null,
      "grid_row": null,
      "grid_template_areas": null,
      "grid_template_columns": null,
      "grid_template_rows": null,
      "height": null,
      "justify_content": null,
      "justify_items": null,
      "left": null,
      "margin": null,
      "max_height": null,
      "max_width": null,
      "min_height": null,
      "min_width": null,
      "object_fit": null,
      "object_position": null,
      "order": null,
      "overflow": null,
      "overflow_x": null,
      "overflow_y": null,
      "padding": null,
      "right": null,
      "top": null,
      "visibility": null,
      "width": null
     }
    }
   }
  }
 },
 "nbformat": 4,
 "nbformat_minor": 4
}

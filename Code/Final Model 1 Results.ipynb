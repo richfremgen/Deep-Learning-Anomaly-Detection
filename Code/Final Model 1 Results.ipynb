{
  "cells": [
    {
      "cell_type": "code",
      "execution_count": null,
      "metadata": {
        "id": "RZq9OaoiZyUH"
      },
      "outputs": [],
      "source": [
        "import torch.nn as nn\n",
        "import torch.nn.functional as F\n",
        "import torch.optim\n",
        "import torchvision\n",
        "import torchvision.transforms as transforms\n",
        "from torchvision.utils import save_image\n",
        "from torch.utils.data import DataLoader, random_split\n",
        "import torch.optim as optim\n",
        "import matplotlib.pyplot as plt\n",
        "import numpy as np\n",
        "import os\n",
        "device = 'cpu'"
      ]
    },
    {
      "cell_type": "code",
      "execution_count": null,
      "metadata": {
        "colab": {
          "base_uri": "https://localhost:8080/",
          "height": 103,
          "referenced_widgets": [
            "d21360191f0b487c9459ece298f3c1b8",
            "ea2f478ba96d49068ade0dbd8418cc0a",
            "41b58dfae0dc4da588e713ef23817435",
            "13c88e5e95df47cf80a08d190702b474",
            "1074f74d7ec94229b5480b5f533aa3d4",
            "13c488aa8e0b4cf7a66d6079df7260c1",
            "297899759fe243528449e12ed3e40b66",
            "5b0526ed27c048daa17966add5f6f5e2",
            "338057bd650c4b0da77cca1267a8c7d7",
            "3914460a98004d29af348aa56b08d2b5",
            "47916637b9a9439a8bd23d2a2f4d7425"
          ]
        },
        "id": "dmysx1uRZyUM",
        "outputId": "8d3a07a4-0671-4c00-9c5d-9dd6884b791d"
      },
      "outputs": [
        {
          "name": "stdout",
          "output_type": "stream",
          "text": [
            "Files already downloaded and verified\n",
            "Files already downloaded and verified\n"
          ]
        }
      ],
      "source": [
        "batch_size = 100\n",
        "\n",
        "transform = transforms.Compose([transforms.ToTensor()])\n",
        "\n",
        "trainset = torchvision.datasets.CIFAR10(root='./data', train=True, download=True, transform=transform)\n",
        "indices = [idx for idx, target in enumerate(trainset.targets) if target in [0]]\n",
        "trainsetclass0 = torch.utils.data.Subset(trainset, indices)\n",
        "\n",
        "testset = torchvision.datasets.CIFAR10(root='./data', train=False, download=True, transform=transform)\n",
        "testloader = torch.utils.data.DataLoader(testset, batch_size=len(testset),shuffle=True, num_workers=2)\n",
        "\n",
        "l_train = len(trainsetclass0)\n",
        "\n",
        "validationsetclass0, trainsetclass0 = random_split(trainsetclass0, [int(l_train*0.2), int(l_train*0.8)])\n",
        "\n",
        "trainloader = torch.utils.data.DataLoader(trainsetclass0, batch_size=batch_size,\n",
        "                                          shuffle=True, num_workers=2)\n",
        "validationloader = torch.utils.data.DataLoader(validationsetclass0, batch_size=batch_size,\n",
        "                                          shuffle=True, num_workers=2)\n",
        "\n",
        "classes = ('plane', 'car', 'bird', 'cat', 'deer', 'dog', 'frog', 'horse', 'ship', 'truck')"
      ]
    },
    {
      "cell_type": "code",
      "execution_count": null,
      "metadata": {
        "colab": {
          "base_uri": "https://localhost:8080/",
          "height": 284
        },
        "id": "kEzUW8YaMCVL",
        "outputId": "08bf0510-5cef-4c9b-b22e-224477f3680b"
      },
      "outputs": [
        {
          "data": {
            "text/plain": [
              "<matplotlib.image.AxesImage at 0x7f16296fd550>"
            ]
          },
          "execution_count": 17,
          "metadata": {},
          "output_type": "execute_result"
        },
        {
          "data": {
            "image/png": "[encoded data removed]",
            "text/plain": [
              "<Figure size 432x288 with 1 Axes>"
            ]
          },
          "metadata": {
            "needs_background": "light"
          },
          "output_type": "display_data"
        }
      ],
      "source": [
        "#sample training image\n",
        "plt.imshow(np.transpose(trainsetclass0[0][0], (1, 2, 0))) "
      ]
    },
    {
      "cell_type": "markdown",
      "metadata": {
        "id": "7GVhmx32ZyUO"
      },
      "source": [
        "## __Convolutional Autoencoder__"
      ]
    },
    {
      "cell_type": "code",
      "execution_count": null,
      "metadata": {
        "id": "41jX_9BiZyUP"
      },
      "outputs": [],
      "source": [
        "class ConvAutoEncoder(nn.Module):\n",
        "    def __init__(self):\n",
        "        super(ConvAutoEncoder, self).__init__()\n",
        "        \n",
        "        self.Encoder = nn.Sequential(\n",
        "            nn.Conv2d(3, 12, 4, stride=2, padding=1),    \n",
        "            nn.ReLU(),\n",
        "            nn.Conv2d(12, 24, 4, stride=2, padding=1),  \n",
        "            nn.ReLU(),\n",
        "\t\t      \tnn.Conv2d(24, 48, 4, stride=2, padding=1),  \n",
        "            nn.ReLU(),)\n",
        "        self.Decoder = nn.Sequential(\n",
        "\t\t\t      nn.ConvTranspose2d(48, 24, 4, stride=2, padding=1), \n",
        "            nn.ReLU(),\n",
        "\t\t\t      nn.ConvTranspose2d(24, 12, 4, stride=2, padding=1),  \n",
        "            nn.ReLU(),\n",
        "            nn.ConvTranspose2d(12, 3, 4, stride=2, padding=1),\n",
        "            nn.Sigmoid(),)\n",
        "\n",
        "    def forward(self, x):\n",
        "        x = self.Encoder(x)\n",
        "        x = self.Decoder(x)\n",
        "        return x"
      ]
    },
    {
      "cell_type": "code",
      "execution_count": null,
      "metadata": {
        "colab": {
          "base_uri": "https://localhost:8080/"
        },
        "id": "2WCQR5ry1uGQ",
        "outputId": "e3787ee0-9f81-4bc4-ae2c-5dfc63c0b0cd"
      },
      "outputs": [
        {
          "name": "stderr",
          "output_type": "stream",
          "text": [
            "100%|██████████| 1/1 [00:11<00:00, 11.75s/it]\n"
          ]
        },
        {
          "name": "stdout",
          "output_type": "stream",
          "text": [
            "Learning Rate: 0.1\n",
            "Weight Decay: 0.01\n",
            "Number of Epochs: 1\n",
            "Avg. Training Loss: 2.5677952356636524\n",
            "Avg. Validation Loss: 0.6422575302422047\n",
            "\n",
            "\n"
          ]
        },
        {
          "name": "stderr",
          "output_type": "stream",
          "text": [
            "100%|██████████| 1/1 [00:11<00:00, 11.45s/it]\n"
          ]
        },
        {
          "name": "stdout",
          "output_type": "stream",
          "text": [
            "Learning Rate: 0.1\n",
            "Weight Decay: 0.001\n",
            "Number of Epochs: 1\n",
            "Avg. Training Loss: 3.329200714826584\n",
            "Avg. Validation Loss: 0.7820576727390289\n",
            "\n",
            "\n"
          ]
        },
        {
          "name": "stderr",
          "output_type": "stream",
          "text": [
            "100%|██████████| 1/1 [00:11<00:00, 11.46s/it]\n"
          ]
        },
        {
          "name": "stdout",
          "output_type": "stream",
          "text": [
            "Learning Rate: 0.1\n",
            "Weight Decay: 0.0001\n",
            "Number of Epochs: 1\n",
            "Avg. Training Loss: 3.5787676572799683\n",
            "Avg. Validation Loss: 0.642495896667242\n",
            "\n",
            "\n"
          ]
        },
        {
          "name": "stderr",
          "output_type": "stream",
          "text": [
            "100%|██████████| 1/1 [00:11<00:00, 11.55s/it]\n"
          ]
        },
        {
          "name": "stdout",
          "output_type": "stream",
          "text": [
            "Learning Rate: 0.01\n",
            "Weight Decay: 0.01\n",
            "Number of Epochs: 1\n",
            "Avg. Training Loss: 2.5962232500314713\n",
            "Avg. Validation Loss: 0.641188882291317\n",
            "\n",
            "\n"
          ]
        },
        {
          "name": "stderr",
          "output_type": "stream",
          "text": [
            "100%|██████████| 1/1 [00:11<00:00, 11.44s/it]\n"
          ]
        },
        {
          "name": "stdout",
          "output_type": "stream",
          "text": [
            "Learning Rate: 0.01\n",
            "Weight Decay: 0.001\n",
            "Number of Epochs: 1\n",
            "Avg. Training Loss: 2.5862519294023514\n",
            "Avg. Validation Loss: 0.6410000026226044\n",
            "\n",
            "\n"
          ]
        },
        {
          "name": "stderr",
          "output_type": "stream",
          "text": [
            "100%|██████████| 1/1 [00:11<00:00, 11.39s/it]\n"
          ]
        },
        {
          "name": "stdout",
          "output_type": "stream",
          "text": [
            "Learning Rate: 0.01\n",
            "Weight Decay: 0.0001\n",
            "Number of Epochs: 1\n",
            "Avg. Training Loss: 2.379073552787304\n",
            "Avg. Validation Loss: 0.4474903270602226\n",
            "\n",
            "\n"
          ]
        },
        {
          "name": "stderr",
          "output_type": "stream",
          "text": [
            "100%|██████████| 1/1 [00:11<00:00, 11.35s/it]\n"
          ]
        },
        {
          "name": "stdout",
          "output_type": "stream",
          "text": [
            "Learning Rate: 0.001\n",
            "Weight Decay: 0.01\n",
            "Number of Epochs: 1\n",
            "Avg. Training Loss: 2.7326233461499214\n",
            "Avg. Validation Loss: 0.6703213751316071\n",
            "\n",
            "\n"
          ]
        },
        {
          "name": "stderr",
          "output_type": "stream",
          "text": [
            "100%|██████████| 1/1 [00:11<00:00, 11.45s/it]\n"
          ]
        },
        {
          "name": "stdout",
          "output_type": "stream",
          "text": [
            "Learning Rate: 0.001\n",
            "Weight Decay: 0.001\n",
            "Number of Epochs: 1\n",
            "Avg. Training Loss: 2.660664938390255\n",
            "Avg. Validation Loss: 0.6492626592516899\n",
            "\n",
            "\n"
          ]
        },
        {
          "name": "stderr",
          "output_type": "stream",
          "text": [
            "100%|██████████| 1/1 [00:11<00:00, 11.34s/it]"
          ]
        },
        {
          "name": "stdout",
          "output_type": "stream",
          "text": [
            "Learning Rate: 0.001\n",
            "Weight Decay: 0.0001\n",
            "Number of Epochs: 1\n",
            "Avg. Training Loss: 2.450981952250004\n",
            "Avg. Validation Loss: 0.49163009598851204\n",
            "\n",
            "\n"
          ]
        },
        {
          "name": "stderr",
          "output_type": "stream",
          "text": [
            "\n"
          ]
        }
      ],
      "source": [
        "# Train Neural Network\n",
        "import tqdm\n",
        "torch.manual_seed(123)\n",
        "num_epochs = [10]\n",
        "lr_list = [0.1,0.01, 0.001]\n",
        "wd_list = [0.01, 0.001, 0.0001]\n",
        "criterion  = nn.MSELoss()\n",
        "\n",
        "for lr in lr_list:\n",
        "  for weight_decay in wd_list:\n",
        "    for epochs in num_epochs:\n",
        "\n",
        "      ConvAE_model = ConvAutoEncoder()\n",
        "      save_training_loss = []\n",
        "      save_validation_loss = []\n",
        "      \n",
        "      tqdm_epoch = tqdm.trange(epochs)\n",
        "      for epoch in tqdm_epoch:\n",
        "            optConvAE = optim.Adam(ConvAE_model.parameters(), lr= lr, weight_decay= weight_decay)\n",
        "            training_loss_ConvAE = 0 \n",
        "            \n",
        "            # Training Set\n",
        "            for batch_ind, (image,_) in enumerate(trainloader):\n",
        "                \n",
        "                #image = image.to(device)\n",
        "                \n",
        "                # ConvAE model\n",
        "                optConvAE.zero_grad()\n",
        "                out_ConvAE = ConvAE_model(image)\n",
        "                loss_ConvAE = criterion(image, out_ConvAE)\n",
        "                loss_ConvAE.backward()\n",
        "                optConvAE.step()\n",
        "                training_loss_ConvAE += loss_ConvAE.item()\n",
        "\n",
        "            # Save Training Loss    \n",
        "            save_training_loss.append(training_loss_ConvAE)\n",
        "            validation_loss_ConvAE = 0.0  \n",
        "\n",
        "            # Validation Set\n",
        "            for batch_ind, (image,_) in enumerate(validationloader):\n",
        "\n",
        "                # ConvAE model\n",
        "                out_ConvAE = ConvAE_model(image)\n",
        "                loss_ConvAE = criterion(image, out_ConvAE)\n",
        "                validation_loss_ConvAE += loss_ConvAE.item()\n",
        "     \n",
        "            save_validation_loss.append(validation_loss_ConvAE)\n",
        "      average_training_loss = np.mean(save_training_loss)\n",
        "      average_validation_loss = np.mean(save_validation_loss)\n",
        "      print(f\"Learning Rate: {lr}\")\n",
        "      print(f\"Weight Decay: {weight_decay}\")\n",
        "      print(f\"Number of Epochs: {epochs}\")\n",
        "      print(f\"Avg. Training Loss: {average_training_loss}\")   \n",
        "      print(f\"Avg. Validation Loss: {average_validation_loss}\") \n",
        "      PATH = './anomaly_model_'+str(lr)+'_'+str(weight_decay)+'_'+str(epochs)+'_'+'.pth'\n",
        "      torch.save(ConvAE_model, PATH)\n",
        "      print('\\n')            "
      ]
    },
    {
      "cell_type": "code",
      "execution_count": null,
      "metadata": {
        "id": "Ea8Zqhh9cOLq"
      },
      "outputs": [],
      "source": [
        "# Neural Network with optimal parameters\n",
        "PATH_optimal_model = './anomaly_model_'+str(0.001)+'_'+str(0.0001)+'_'+str(1)+'_'+'.pth'\n",
        "optConvAE = torch.load(PATH)\n"
      ]
    },
    {
      "cell_type": "code",
      "execution_count": null,
      "metadata": {
        "id": "YUJAYqBLw40r"
      },
      "outputs": [],
      "source": [
        "# Define a function to plot both training and validation loss\n",
        "def plot_loss(training_loss, validation_loss):\n",
        "    fig = plt.figure(figsize=(12,8)) \n",
        "    plt.plot(training_loss, color = \"red\", linewidth=3, label = 'Training Loss')\n",
        "    plt.plot(validation_loss, color = \"green\", linewidth=3, label = 'Validation Loss')\n",
        "    plt.xlabel(\"Epoch Number\", fontsize = 12)\n",
        "    plt.ylabel(\"Loss\", fontsize = 14) \n",
        "    plt.title(\"Neural Network Loss by Epoch\", fontsize = 16, fontweight = \"bold\")\n",
        "    #plt.xticks(np.arange(0, 22, 2))\n",
        "    plt.legend(fontsize = 12)\n",
        "    plt.grid()\n",
        "    plt.show()"
      ]
    },
    {
      "cell_type": "code",
      "execution_count": null,
      "metadata": {
        "colab": {
          "base_uri": "https://localhost:8080/",
          "height": 518
        },
        "id": "05bcuwFRxcRj",
        "outputId": "7c91eba2-5ede-41ee-f57d-c1e08d28776b"
      },
      "outputs": [
        {
          "data": {
            "image/png": "[encoded data removed]",
            "text/plain": [
              "<Figure size 864x576 with 1 Axes>"
            ]
          },
          "metadata": {
            "needs_background": "light"
          },
          "output_type": "display_data"
        }
      ],
      "source": [
        "plot_loss(save_training_loss, save_validation_loss)"
      ]
    },
    {
      "cell_type": "code",
      "execution_count": null,
      "metadata": {
        "id": "I8tZ0nFjcOLs",
        "outputId": "003efca3-80a1-443d-b9ac-6864c14e0fdf"
      },
      "outputs": [
        {
          "data": {
            "image/png": "[encoded data removed]",
            "text/plain": [
              "<Figure size 432x288 with 1 Axes>"
            ]
          },
          "metadata": {
            "needs_background": "light"
          },
          "output_type": "display_data"
        },
        {
          "name": "stdout",
          "output_type": "stream",
          "text": [
            "The AUC is  0.3515691111111111\n"
          ]
        }
      ],
      "source": [
        "for batch_ind, (image,target) in enumerate(testloader):\n",
        "    ConvAE_model.eval()\n",
        "    with torch.no_grad():\n",
        "        reconstructed_image = ConvAE_model(image)\n",
        "test_mse = torch.mean((image.view(10000,-1)-reconstructed_image.view(10000,-1))**2,dim=1)\n",
        "from sklearn import metrics\n",
        "fpr, tpr, thresholds = metrics.roc_curve(target, test_mse, pos_label=0)\n",
        "plt.plot(tpr,fpr)\n",
        "plt.title(\"ROC plot for anomaly detection for class 0\")\n",
        "plt.xlabel(\"TPR\")\n",
        "plt.ylabel(\"FPR\")\n",
        "plt.show()\n",
        "print(\"The AUC is \",metrics.auc(fpr, tpr))\n"
      ]
    },
    {
      "cell_type": "code",
      "execution_count": null,
      "metadata": {
        "id": "OI3-9ubDcOLs"
      },
      "outputs": [],
      "source": [
        "diff_image = torch.abs(image[5:7]-reconstructed_image[5:7])"
      ]
    },
    {
      "cell_type": "code",
      "execution_count": null,
      "metadata": {
        "id": "lGQAhEv7cOLt",
        "outputId": "c0258e3f-6c71-4d3f-cb0b-d59e156782dd"
      },
      "outputs": [
        {
          "data": {
            "text/plain": [
              "tensor([2, 0])"
            ]
          },
          "execution_count": 49,
          "metadata": {},
          "output_type": "execute_result"
        }
      ],
      "source": [
        "target[5:7]"
      ]
    },
    {
      "cell_type": "code",
      "execution_count": null,
      "metadata": {
        "id": "AIZmDCxPcOLt",
        "outputId": "4b0f962c-75fb-476b-e798-d5b96a6ab0cc"
      },
      "outputs": [
        {
          "data": {
            "text/plain": [
              "torch.Size([2, 3, 32, 32])"
            ]
          },
          "execution_count": 50,
          "metadata": {},
          "output_type": "execute_result"
        }
      ],
      "source": [
        "diff_image.size()"
      ]
    },
    {
      "cell_type": "code",
      "execution_count": null,
      "metadata": {
        "id": "20rsyDgdcOLt",
        "outputId": "afc4d87b-3412-4741-9f67-ebf339aaf4a9"
      },
      "outputs": [
        {
          "data": {
            "text/plain": [
              "<matplotlib.image.AxesImage at 0x1820ce8a310>"
            ]
          },
          "execution_count": 51,
          "metadata": {},
          "output_type": "execute_result"
        },
        {
          "data": {
            "image/png": "[encoded data removed]",
            "text/plain": [
              "<Figure size 432x288 with 1 Axes>"
            ]
          },
          "metadata": {
            "needs_background": "light"
          },
          "output_type": "display_data"
        }
      ],
      "source": [
        "plt.imshow(np.transpose(diff_image[1], (1, 2, 0))) "
      ]
    },
    {
      "cell_type": "code",
      "execution_count": null,
      "metadata": {
        "id": "kPuP0BFmcOLt",
        "outputId": "ed1b4e43-4693-4009-9d80-6eaddd54ba8b"
      },
      "outputs": [
        {
          "data": {
            "text/plain": [
              "<matplotlib.image.AxesImage at 0x1820c956f10>"
            ]
          },
          "execution_count": 52,
          "metadata": {},
          "output_type": "execute_result"
        },
        {
          "data": {
            "image/png": "[encoded data removed]",
            "text/plain": [
              "<Figure size 432x288 with 1 Axes>"
            ]
          },
          "metadata": {
            "needs_background": "light"
          },
          "output_type": "display_data"
        }
      ],
      "source": [
        "plt.imshow(np.transpose(image[5:7][1], (1, 2, 0))) "
      ]
    },
    {
      "cell_type": "code",
      "execution_count": null,
      "metadata": {
        "id": "KaXXHuHhcOLu",
        "outputId": "7f1b3762-6aa8-4a7c-a905-5ec7c84c413c"
      },
      "outputs": [
        {
          "data": {
            "text/plain": [
              "<matplotlib.image.AxesImage at 0x1820d0b34c0>"
            ]
          },
          "execution_count": 56,
          "metadata": {},
          "output_type": "execute_result"
        },
        {
          "data": {
            "image/png": "[encoded data removed]",
            "text/plain": [
              "<Figure size 432x288 with 1 Axes>"
            ]
          },
          "metadata": {
            "needs_background": "light"
          },
          "output_type": "display_data"
        }
      ],
      "source": [
        "plt.imshow(np.transpose(diff_image[0], (1, 2, 0))) \n"
      ]
    },
    {
      "cell_type": "code",
      "execution_count": null,
      "metadata": {
        "id": "A9-AuAFmcOLu",
        "outputId": "5a6263c2-9d53-4f11-b39c-7f41f435157b"
      },
      "outputs": [
        {
          "data": {
            "text/plain": [
              "<matplotlib.image.AxesImage at 0x1820d11ce50>"
            ]
          },
          "execution_count": 57,
          "metadata": {},
          "output_type": "execute_result"
        },
        {
          "data": {
            "image/png": "[encoded data removed]",
            "text/plain": [
              "<Figure size 432x288 with 1 Axes>"
            ]
          },
          "metadata": {
            "needs_background": "light"
          },
          "output_type": "display_data"
        }
      ],
      "source": [
        "plt.imshow(np.transpose(image[5:7][0], (1, 2, 0))) "
      ]
    },
    {
      "cell_type": "code",
      "execution_count": null,
      "metadata": {
        "id": "FZ0ujbwzcOLu"
      },
      "outputs": [],
      "source": [
        "diff_image = torch.mean(torch.abs(image[5:7]-reconstructed_image[5:7]),dim=1,keepdim=True)"
      ]
    },
    {
      "cell_type": "code",
      "execution_count": null,
      "metadata": {
        "id": "5hP8QYwCcOLv",
        "outputId": "d3d24bc6-01cb-4a0e-ebb2-0121298bd1ca"
      },
      "outputs": [
        {
          "data": {
            "text/plain": [
              "<matplotlib.image.AxesImage at 0x1820d327f10>"
            ]
          },
          "execution_count": 73,
          "metadata": {},
          "output_type": "execute_result"
        },
        {
          "data": {
            "image/png": "[encoded data removed]",
            "text/plain": [
              "<Figure size 432x288 with 1 Axes>"
            ]
          },
          "metadata": {
            "needs_background": "light"
          },
          "output_type": "display_data"
        }
      ],
      "source": [
        "plt.imshow(np.transpose(diff_image[1], (1, 2, 0))) "
      ]
    },
    {
      "cell_type": "code",
      "execution_count": null,
      "metadata": {
        "id": "m15IyZwicOLv",
        "outputId": "834b9d41-83b5-4330-baea-5633014917ba"
      },
      "outputs": [
        {
          "data": {
            "text/plain": [
              "<matplotlib.image.AxesImage at 0x1820d392790>"
            ]
          },
          "execution_count": 74,
          "metadata": {},
          "output_type": "execute_result"
        },
        {
          "data": {
            "image/png": "[encoded data removed]",
            "text/plain": [
              "<Figure size 432x288 with 1 Axes>"
            ]
          },
          "metadata": {
            "needs_background": "light"
          },
          "output_type": "display_data"
        }
      ],
      "source": [
        "plt.imshow(np.transpose(diff_image[0], (1, 2, 0))) "
      ]
    }
  ],
  "metadata": {
    "colab": {
      "provenance": []
    },
    "kernelspec": {
      "display_name": "Python 3.9.12 ('base')",
      "language": "python",
      "name": "python3"
    },
    "language_info": {
      "codemirror_mode": {
        "name": "ipython",
        "version": 3
      },
      "file_extension": ".py",
      "mimetype": "text/x-python",
      "name": "python",
      "nbconvert_exporter": "python",
      "pygments_lexer": "ipython3",
      "version": "3.9.12"
    },
    "vscode": {
      "interpreter": {
        "hash": "a7b567b42122ab108d0f2e1af5ccae0d6523b726f4d312c6900d3cf5eb561115"
      }
    },
    "widgets": {
      "application/vnd.jupyter.widget-state+json": {
        "1074f74d7ec94229b5480b5f533aa3d4": {
          "model_module": "@jupyter-widgets/base",
          "model_module_version": "1.2.0",
          "model_name": "LayoutModel",
          "state": {
            "_model_module": "@jupyter-widgets/base",
            "_model_module_version": "1.2.0",
            "_model_name": "LayoutModel",
            "_view_count": null,
            "_view_module": "@jupyter-widgets/base",
            "_view_module_version": "1.2.0",
            "_view_name": "LayoutView",
            "align_content": null,
            "align_items": null,
            "align_self": null,
            "border": null,
            "bottom": null,
            "display": null,
            "flex": null,
            "flex_flow": null,
            "grid_area": null,
            "grid_auto_columns": null,
            "grid_auto_flow": null,
            "grid_auto_rows": null,
            "grid_column": null,
            "grid_gap": null,
            "grid_row": null,
            "grid_template_areas": null,
            "grid_template_columns": null,
            "grid_template_rows": null,
            "height": null,
            "justify_content": null,
            "justify_items": null,
            "left": null,
            "margin": null,
            "max_height": null,
            "max_width": null,
            "min_height": null,
            "min_width": null,
            "object_fit": null,
            "object_position": null,
            "order": null,
            "overflow": null,
            "overflow_x": null,
            "overflow_y": null,
            "padding": null,
            "right": null,
            "top": null,
            "visibility": null,
            "width": null
          }
        },
        "13c488aa8e0b4cf7a66d6079df7260c1": {
          "model_module": "@jupyter-widgets/base",
          "model_module_version": "1.2.0",
          "model_name": "LayoutModel",
          "state": {
            "_model_module": "@jupyter-widgets/base",
            "_model_module_version": "1.2.0",
            "_model_name": "LayoutModel",
            "_view_count": null,
            "_view_module": "@jupyter-widgets/base",
            "_view_module_version": "1.2.0",
            "_view_name": "LayoutView",
            "align_content": null,
            "align_items": null,
            "align_self": null,
            "border": null,
            "bottom": null,
            "display": null,
            "flex": null,
            "flex_flow": null,
            "grid_area": null,
            "grid_auto_columns": null,
            "grid_auto_flow": null,
            "grid_auto_rows": null,
            "grid_column": null,
            "grid_gap": null,
            "grid_row": null,
            "grid_template_areas": null,
            "grid_template_columns": null,
            "grid_template_rows": null,
            "height": null,
            "justify_content": null,
            "justify_items": null,
            "left": null,
            "margin": null,
            "max_height": null,
            "max_width": null,
            "min_height": null,
            "min_width": null,
            "object_fit": null,
            "object_position": null,
            "order": null,
            "overflow": null,
            "overflow_x": null,
            "overflow_y": null,
            "padding": null,
            "right": null,
            "top": null,
            "visibility": null,
            "width": null
          }
        },
        "13c88e5e95df47cf80a08d190702b474": {
          "model_module": "@jupyter-widgets/controls",
          "model_module_version": "1.5.0",
          "model_name": "HTMLModel",
          "state": {
            "_dom_classes": [],
            "_model_module": "@jupyter-widgets/controls",
            "_model_module_version": "1.5.0",
            "_model_name": "HTMLModel",
            "_view_count": null,
            "_view_module": "@jupyter-widgets/controls",
            "_view_module_version": "1.5.0",
            "_view_name": "HTMLView",
            "description": "",
            "description_tooltip": null,
            "layout": "IPY_MODEL_3914460a98004d29af348aa56b08d2b5",
            "placeholder": "​",
            "style": "IPY_MODEL_47916637b9a9439a8bd23d2a2f4d7425",
            "value": " 170498071/170498071 [00:02&lt;00:00, 83635904.89it/s]"
          }
        },
        "297899759fe243528449e12ed3e40b66": {
          "model_module": "@jupyter-widgets/controls",
          "model_module_version": "1.5.0",
          "model_name": "DescriptionStyleModel",
          "state": {
            "_model_module": "@jupyter-widgets/controls",
            "_model_module_version": "1.5.0",
            "_model_name": "DescriptionStyleModel",
            "_view_count": null,
            "_view_module": "@jupyter-widgets/base",
            "_view_module_version": "1.2.0",
            "_view_name": "StyleView",
            "description_width": ""
          }
        },
        "338057bd650c4b0da77cca1267a8c7d7": {
          "model_module": "@jupyter-widgets/controls",
          "model_module_version": "1.5.0",
          "model_name": "ProgressStyleModel",
          "state": {
            "_model_module": "@jupyter-widgets/controls",
            "_model_module_version": "1.5.0",
            "_model_name": "ProgressStyleModel",
            "_view_count": null,
            "_view_module": "@jupyter-widgets/base",
            "_view_module_version": "1.2.0",
            "_view_name": "StyleView",
            "bar_color": null,
            "description_width": ""
          }
        },
        "3914460a98004d29af348aa56b08d2b5": {
          "model_module": "@jupyter-widgets/base",
          "model_module_version": "1.2.0",
          "model_name": "LayoutModel",
          "state": {
            "_model_module": "@jupyter-widgets/base",
            "_model_module_version": "1.2.0",
            "_model_name": "LayoutModel",
            "_view_count": null,
            "_view_module": "@jupyter-widgets/base",
            "_view_module_version": "1.2.0",
            "_view_name": "LayoutView",
            "align_content": null,
            "align_items": null,
            "align_self": null,
            "border": null,
            "bottom": null,
            "display": null,
            "flex": null,
            "flex_flow": null,
            "grid_area": null,
            "grid_auto_columns": null,
            "grid_auto_flow": null,
            "grid_auto_rows": null,
            "grid_column": null,
            "grid_gap": null,
            "grid_row": null,
            "grid_template_areas": null,
            "grid_template_columns": null,
            "grid_template_rows": null,
            "height": null,
            "justify_content": null,
            "justify_items": null,
            "left": null,
            "margin": null,
            "max_height": null,
            "max_width": null,
            "min_height": null,
            "min_width": null,
            "object_fit": null,
            "object_position": null,
            "order": null,
            "overflow": null,
            "overflow_x": null,
            "overflow_y": null,
            "padding": null,
            "right": null,
            "top": null,
            "visibility": null,
            "width": null
          }
        },
        "41b58dfae0dc4da588e713ef23817435": {
          "model_module": "@jupyter-widgets/controls",
          "model_module_version": "1.5.0",
          "model_name": "FloatProgressModel",
          "state": {
            "_dom_classes": [],
            "_model_module": "@jupyter-widgets/controls",
            "_model_module_version": "1.5.0",
            "_model_name": "FloatProgressModel",
            "_view_count": null,
            "_view_module": "@jupyter-widgets/controls",
            "_view_module_version": "1.5.0",
            "_view_name": "ProgressView",
            "bar_style": "success",
            "description": "",
            "description_tooltip": null,
            "layout": "IPY_MODEL_5b0526ed27c048daa17966add5f6f5e2",
            "max": 170498071,
            "min": 0,
            "orientation": "horizontal",
            "style": "IPY_MODEL_338057bd650c4b0da77cca1267a8c7d7",
            "value": 170498071
          }
        },
        "47916637b9a9439a8bd23d2a2f4d7425": {
          "model_module": "@jupyter-widgets/controls",
          "model_module_version": "1.5.0",
          "model_name": "DescriptionStyleModel",
          "state": {
            "_model_module": "@jupyter-widgets/controls",
            "_model_module_version": "1.5.0",
            "_model_name": "DescriptionStyleModel",
            "_view_count": null,
            "_view_module": "@jupyter-widgets/base",
            "_view_module_version": "1.2.0",
            "_view_name": "StyleView",
            "description_width": ""
          }
        },
        "5b0526ed27c048daa17966add5f6f5e2": {
          "model_module": "@jupyter-widgets/base",
          "model_module_version": "1.2.0",
          "model_name": "LayoutModel",
          "state": {
            "_model_module": "@jupyter-widgets/base",
            "_model_module_version": "1.2.0",
            "_model_name": "LayoutModel",
            "_view_count": null,
            "_view_module": "@jupyter-widgets/base",
            "_view_module_version": "1.2.0",
            "_view_name": "LayoutView",
            "align_content": null,
            "align_items": null,
            "align_self": null,
            "border": null,
            "bottom": null,
            "display": null,
            "flex": null,
            "flex_flow": null,
            "grid_area": null,
            "grid_auto_columns": null,
            "grid_auto_flow": null,
            "grid_auto_rows": null,
            "grid_column": null,
            "grid_gap": null,
            "grid_row": null,
            "grid_template_areas": null,
            "grid_template_columns": null,
            "grid_template_rows": null,
            "height": null,
            "justify_content": null,
            "justify_items": null,
            "left": null,
            "margin": null,
            "max_height": null,
            "max_width": null,
            "min_height": null,
            "min_width": null,
            "object_fit": null,
            "object_position": null,
            "order": null,
            "overflow": null,
            "overflow_x": null,
            "overflow_y": null,
            "padding": null,
            "right": null,
            "top": null,
            "visibility": null,
            "width": null
          }
        },
        "d21360191f0b487c9459ece298f3c1b8": {
          "model_module": "@jupyter-widgets/controls",
          "model_module_version": "1.5.0",
          "model_name": "HBoxModel",
          "state": {
            "_dom_classes": [],
            "_model_module": "@jupyter-widgets/controls",
            "_model_module_version": "1.5.0",
            "_model_name": "HBoxModel",
            "_view_count": null,
            "_view_module": "@jupyter-widgets/controls",
            "_view_module_version": "1.5.0",
            "_view_name": "HBoxView",
            "box_style": "",
            "children": [
              "IPY_MODEL_ea2f478ba96d49068ade0dbd8418cc0a",
              "IPY_MODEL_41b58dfae0dc4da588e713ef23817435",
              "IPY_MODEL_13c88e5e95df47cf80a08d190702b474"
            ],
            "layout": "IPY_MODEL_1074f74d7ec94229b5480b5f533aa3d4"
          }
        },
        "ea2f478ba96d49068ade0dbd8418cc0a": {
          "model_module": "@jupyter-widgets/controls",
          "model_module_version": "1.5.0",
          "model_name": "HTMLModel",
          "state": {
            "_dom_classes": [],
            "_model_module": "@jupyter-widgets/controls",
            "_model_module_version": "1.5.0",
            "_model_name": "HTMLModel",
            "_view_count": null,
            "_view_module": "@jupyter-widgets/controls",
            "_view_module_version": "1.5.0",
            "_view_name": "HTMLView",
            "description": "",
            "description_tooltip": null,
            "layout": "IPY_MODEL_13c488aa8e0b4cf7a66d6079df7260c1",
            "placeholder": "​",
            "style": "IPY_MODEL_297899759fe243528449e12ed3e40b66",
            "value": "100%"
          }
        }
      }
    }
  },
  "nbformat": 4,
  "nbformat_minor": 0
}